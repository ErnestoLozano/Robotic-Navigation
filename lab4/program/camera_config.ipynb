{
 "cells": [
  {
   "cell_type": "markdown",
   "metadata": {},
   "source": [
    "# Extract camera config"
   ]
  },
  {
   "cell_type": "code",
   "execution_count": null,
   "metadata": {},
   "outputs": [],
   "source": [
    "import numpy as np \n",
    "\n",
    "npz_file = np.load('camera.npz')\n",
    "ret, mtx, dist, rvecs, tvecs = npz_file['ret'], npz_file['mtx'], npz_file['dist'], npz_file['rvecs'], npz_file['tvecs']\n",
    "print(mtx, dist)\n",
    "print(\"==============================\")\n",
    "print(\"Camera.fx: \" + str(format(mtx[0,0], '.8f')))\n",
    "print(\"Camera.fy: \" + str(format(mtx[1,1], '.8f')))\n",
    "print(\"Camera.cx: \" + str(format(mtx[0,2], '.8f')))\n",
    "print(\"Camera.cy: \" + str(format(mtx[1,2], '.8f')))\n",
    "print()\n",
    "print(\"Camera.k1: \" + str(format(dist[0,0], '.8f')))\n",
    "print(\"Camera.k2: \" + str(format(dist[0,1], '.8f')))\n",
    "print(\"Camera.p1: \" + str(format(dist[0,2], '.8f')))\n",
    "print(\"Camera.p2: \" + str(format(dist[0,3], '.8f')))\n",
    "print(\"Camera.k3: \" + str(format(dist[0,4], '.8f')))"
   ]
  },
  {
   "cell_type": "markdown",
   "metadata": {},
   "source": [
    "Copy the above information to ORB-SLAM's yaml file."
   ]
  }
 ],
 "metadata": {
  "kernelspec": {
   "display_name": "Python 3",
   "language": "python",
   "name": "python3"
  },
  "language_info": {
   "codemirror_mode": {
    "name": "ipython",
    "version": 3
   },
   "file_extension": ".py",
   "mimetype": "text/x-python",
   "name": "python",
   "nbconvert_exporter": "python",
   "pygments_lexer": "ipython3",
   "version": "3.6.9"
  }
 },
 "nbformat": 4,
 "nbformat_minor": 2
}
